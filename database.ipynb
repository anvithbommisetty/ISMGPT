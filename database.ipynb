{
 "cells": [
  {
   "cell_type": "code",
   "execution_count": 1,
   "metadata": {},
   "outputs": [
    {
     "name": "stderr",
     "output_type": "stream",
     "text": [
      "c:\\Users\\anvit\\Desktop\\ISMGPT\\venv\\Lib\\site-packages\\pinecone\\data\\index.py:1: TqdmWarning: IProgress not found. Please update jupyter and ipywidgets. See https://ipywidgets.readthedocs.io/en/stable/user_install.html\n",
      "  from tqdm.autonotebook import tqdm\n"
     ]
    }
   ],
   "source": [
    "from dotenv import load_dotenv\n",
    "import os\n",
    "from pinecone import Pinecone ,ServerlessSpec\n",
    "from langchain_pinecone import PineconeVectorStore\n",
    "from langchain.text_splitter import RecursiveCharacterTextSplitter\n",
    "from langchain_google_genai import GoogleGenerativeAIEmbeddings"
   ]
  },
  {
   "cell_type": "code",
   "execution_count": 2,
   "metadata": {},
   "outputs": [],
   "source": [
    "load_dotenv()\n",
    "os.environ[\"GOOGLE_API_KEY\"] = os.getenv('GOOGLE_API_KEY')"
   ]
  },
  {
   "cell_type": "code",
   "execution_count": 3,
   "metadata": {},
   "outputs": [],
   "source": [
    "pc = Pinecone(os.getenv(\"PINECONE_API_KEY\"))"
   ]
  },
  {
   "cell_type": "code",
   "execution_count": 8,
   "metadata": {},
   "outputs": [],
   "source": [
    "pc.create_index(\n",
    "    name=\"ismgpt\",\n",
    "    dimension=768, # Replace with your model dimensions\n",
    "    metric=\"cosine\", # Replace with your model metric\n",
    "    spec=ServerlessSpec(\n",
    "        cloud=\"aws\",\n",
    "        region=\"us-east-1\"\n",
    "    ) \n",
    ")"
   ]
  },
  {
   "cell_type": "code",
   "execution_count": 4,
   "metadata": {},
   "outputs": [],
   "source": [
    "index = pc.Index(\"ismgpt\")"
   ]
  },
  {
   "cell_type": "code",
   "execution_count": 36,
   "metadata": {},
   "outputs": [
    {
     "name": "stderr",
     "output_type": "stream",
     "text": [
      "Fetching pages: 100%|##########| 2/2 [00:00<00:00, 47.48it/s]\n"
     ]
    }
   ],
   "source": [
    "from langchain_community.document_loaders import AsyncHtmlLoader\n",
    "from langchain_community.document_transformers import BeautifulSoupTransformer\n",
    "\n",
    "urls = [\"https://people.iitism.ac.in/~dsw/counselling.html\",\"https://people.iitism.ac.in/~dsw/sa.html\"]\n",
    "loader = AsyncHtmlLoader(urls)\n",
    "docs = loader.load()"
   ]
  },
  {
   "cell_type": "code",
   "execution_count": 37,
   "metadata": {},
   "outputs": [],
   "source": [
    "# Transform\n",
    "bs_transformer = BeautifulSoupTransformer()\n",
    "docs_transformed = bs_transformer.transform_documents(docs, tags_to_extract=[\"div\"])"
   ]
  },
  {
   "cell_type": "code",
   "execution_count": 8,
   "metadata": {},
   "outputs": [],
   "source": [
    "from langchain_community.document_loaders import PyPDFDirectoryLoader\n",
    "loader = PyPDFDirectoryLoader(\"docs/\")\n",
    "docs = loader.load()"
   ]
  },
  {
   "cell_type": "code",
   "execution_count": 9,
   "metadata": {},
   "outputs": [],
   "source": [
    "def create_chunks(doc_to_chunk):\n",
    "    text_splitter = RecursiveCharacterTextSplitter(\n",
    "        chunk_size=800,\n",
    "        chunk_overlap=100,\n",
    "        length_function=len\n",
    "        )\n",
    "    return text_splitter.split_documents(doc_to_chunk)\n",
    "chunks = create_chunks(docs)"
   ]
  },
  {
   "cell_type": "code",
   "execution_count": 10,
   "metadata": {},
   "outputs": [],
   "source": [
    "embeddings = GoogleGenerativeAIEmbeddings(model=\"models/embedding-001\")"
   ]
  },
  {
   "cell_type": "code",
   "execution_count": 11,
   "metadata": {},
   "outputs": [],
   "source": [
    "vectorstore = PineconeVectorStore.from_documents(\n",
    "    chunks, embeddings, index_name=\"ismgpt\"\n",
    ")"
   ]
  },
  {
   "cell_type": "code",
   "execution_count": 13,
   "metadata": {},
   "outputs": [
    {
     "data": {
      "text/plain": [
       "[Document(metadata={'page': 1.0, 'source': 'docs\\\\holiday.pdf'}, page_content=\"LIST OF RESTRICTED  HOLIDAYS -2024  (Any two can be availed)  \\n \\n \\nSl \\nNo. Restricted  Holidays  Date Day of  Week  \\n1.  New Year 's Day  01.01.2024  Monday  \\n2.  Lohri  13.01.2024  Saturday  \\n3.  Makar Sankranti  14.01.2024  Sunday  \\n4.  Magha Bihu / Pongal  15.01.2024  Monday  \\n5.  Guru Gobind Singh’s Birthday  17.01.2024  Wednesday  \\n6.  Hazrat  Ali’s Birthday  25.01.2024  Thursday  \\n7.  Shivaji  Jayanti  19.02.2024  Monday  \\n8.  Guru Ravi Das’s Birthday  24.02.2024  Saturday  \\n9.  Birthday of Swami  Dayananda  Saraswati  06.03.2024  Wednesday  \\n10.  Holika  Dahan  24.03.2024  Sunday  \\n11.  Dolyatra  25.03.2024  Monday  \\n12.  Easter Sunday  31.03.2024  Sunday  \\n13.  Jamat -Ul-Vida 05.04.2024  Friday  \\n14.  Chaitra  Sukladi/Gudi  Padava/Ugadi/  Cheti  Chand  09.04.2024  Tuesday\"),\n",
       " Document(metadata={'page': 1.0, 'source': 'docs\\\\holiday.pdf'}, page_content='14.  Chaitra  Sukladi/Gudi  Padava/Ugadi/  Cheti  Chand  09.04.2024  Tuesday  \\n15.  Vaisakhi  / Vishu  13.04.2024  Saturday  \\n16.  Meshadi (Tamil New Year’s Day)/ Vaisakhadi  \\n(Bengal)/Bahag  Bihu (Assam)  14.04.2024  Sunday  \\n17.    Birthday of Guru Rabindranath Tagore  08.05.2024  Wednesday  \\n18.  Rath Yatra  07.07.2024  Sunday  \\n19.  Parsi  New Year’s  Day/ Nauraj  15.08.2024  Thursday  \\n20.  Raksha Bandhan   19.08.2024  Monday  \\n21.  Ganesh  Chaturthi / Vinayaka  Chaturthi  07.09.2024  Saturday  \\n22.  Onam  or Thiru  Onam  Day 15.09.2024  Sunday  \\n23.  Dussehra  (Saptami)  10.10.2024  Thursday  \\n24.  Maharshi  Valmiki’s  Birthday  17.10.2024  Thursday  \\n25.  Karaka  Chaturthi  (Karwa  Chouth)  20.10.2024  Sunday  \\n26.  Naraka  Chaturdasi  31.10.2024  Thursday'),\n",
       " Document(metadata={'page': 0.0, 'source': 'docs\\\\holiday.pdf'}, page_content='12. Mahatma  Gandhi’s Birthday  02.10.2024  Wednesday  \\n13. (Dussehra) Maha shtami / (Dussehra) Maha  \\nNavmi   11.10.2024  Friday  \\n14. (Dussehra)Vijay  Dashmi   12.10.2024  Saturday  \\n15. Diwali  (Deepavali)  31.10.2024  Thursday  \\n16. Guru  Nanak’s  Birthday  15.11.2024  Friday  \\n17. Christmas  Day 25.12.2024  Wednesday  \\n \\n*Subject  to visibility  of moon.  \\n \\n \\nLIST OF HALF  HOLIDAYS FOR 2024  \\n \\nSl \\nNo. Half Holidays  Date Day of Week  \\n1.  Sri Panchami / Basant  Panchami  14.02.2024  Wednesday  Afternoon  \\n2.  Maha Shivratri     08.03.2024  Friday  Afternoon  \\n3.  Ram Navami   17.04.2024  Wednesday  Afternoon  \\n4.  Pratihar Shashthi or Surya \\nShashthi ( Chhat Puja)     07.11.2024  Thursday  Afternoon  \\n \\n \\n \\n               \\n            Registrar'),\n",
       " Document(metadata={'page': 1.0, 'source': 'docs\\\\holiday.pdf'}, page_content='26.  Naraka  Chaturdasi  31.10.2024  Thursday  \\n27.  Govardhan  Puja 02.11.2024  Saturday  \\n28.  Bhai Duj  03.11.2024  Sunday  \\n29.  Guru  Teg Bahadur’s  Martyrdom  Day 24.11.2024  Sunday  \\n30.  Christmas  Eve 24.12.2024  Tuesday  \\n \\n \\n        \\n \\n \\n                Registrar  \\n \\nCC  : Director / Deputy Director / RG Sectt.  \\n  : All Departments/Sectional  Heads/ Webmaster  \\n  : All employees')]"
      ]
     },
     "execution_count": 13,
     "metadata": {},
     "output_type": "execute_result"
    }
   ],
   "source": [
    "retriever = vectorstore.as_retriever(k=4)\n",
    "retriever.invoke(\"nearby Holidays\")"
   ]
  },
  {
   "cell_type": "code",
   "execution_count": null,
   "metadata": {},
   "outputs": [],
   "source": []
  }
 ],
 "metadata": {
  "kernelspec": {
   "display_name": "venv",
   "language": "python",
   "name": "python3"
  },
  "language_info": {
   "codemirror_mode": {
    "name": "ipython",
    "version": 3
   },
   "file_extension": ".py",
   "mimetype": "text/x-python",
   "name": "python",
   "nbconvert_exporter": "python",
   "pygments_lexer": "ipython3",
   "version": "3.11.5"
  }
 },
 "nbformat": 4,
 "nbformat_minor": 2
}
